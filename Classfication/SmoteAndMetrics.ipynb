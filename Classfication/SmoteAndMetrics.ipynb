{
 "cells": [
  {
   "cell_type": "markdown",
   "metadata": {},
   "source": [
    "## Precision & ReCall & F-Beta :"
   ]
  },
  {
   "cell_type": "markdown",
   "metadata": {},
   "source": [
    "### Confusion Matrix:\n",
    "In binary classification, the confusion matrix is a machine learning metric that shows the number of:\n",
    "\n",
    "1. true positives (the model correctly predicted true) -> TP\n",
    "2. false positives (the model incorrectly predicted true) -> FP\n",
    "3. true negatives (the model correctly predicted false) -> TN\n",
    "4. false negatives (the model incorrectly predicted false) -> FN"
   ]
  },
  {
   "cell_type": "markdown",
   "metadata": {},
   "source": [
    "### Precision :\n",
    "Precision means how well a model succeeds in identifying ONLY positive cases: <br><br>\n",
    "    $\\frac{TP}{TP+FP}$\n",
    "\n",
    "We care about this whenever we want to reduce counts of FP."
   ]
  },
  {
   "cell_type": "markdown",
   "metadata": {},
   "source": [
    "### ReCall :\n",
    "Recall means how well a model succeeds in identifying ALL the positive cases within the data.<br><br>\n",
    "    $\\frac{TP}{TP+FN}$\n",
    "We care about this whenever we want to reduce counts of FN."
   ]
  },
  {
   "cell_type": "markdown",
   "metadata": {},
   "source": [
    "### F-beta:\n",
    "When both ReCall and Precision are important we use this metric.\n",
    "About beta :\n",
    "1. When FP and FN both are equally important, beta will be 1 and we have F-1 score.\n",
    "2. When FP is more important than FN, beta will be 0.5 and we have F-0.5 score.\n",
    "3. When FP is less important than FN, beta will be 2 and we have F-2 score.\n",
    "\n",
    "#### Formula for F-beta:\n",
    "\n",
    "$F_\\beta = \\frac{((1 + \\beta^2) * Precision * Recall)}{(\\beta^2 * Precision + Recall)}$"
   ]
  }
 ],
 "metadata": {
  "interpreter": {
   "hash": "916dbcbb3f70747c44a77c7bcd40155683ae19c65e1c03b4aa3499c5328201f1"
  },
  "kernelspec": {
   "display_name": "Python 3.8.10 64-bit",
   "language": "python",
   "name": "python3"
  },
  "language_info": {
   "name": "python",
   "version": "3.8.10"
  },
  "orig_nbformat": 4
 },
 "nbformat": 4,
 "nbformat_minor": 2
}
