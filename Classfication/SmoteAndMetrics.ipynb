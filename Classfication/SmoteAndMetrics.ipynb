{
 "cells": [
  {
   "cell_type": "markdown",
   "metadata": {},
   "source": [
    "## Precision & ReCall & F-Beta :"
   ]
  },
  {
   "cell_type": "markdown",
   "metadata": {},
   "source": [
    "### Confusion Matrix:\n",
    "In binary classification, the confusion matrix is a machine learning metric that shows the number of:\n",
    "\n",
    "1. true positives (the model correctly predicted true) -> TP\n",
    "2. false positives (the model incorrectly predicted true) -> FP\n",
    "3. true negatives (the model correctly predicted false) -> TN\n",
    "4. false negatives (the model incorrectly predicted false) -> FN"
   ]
  },
  {
   "cell_type": "markdown",
   "metadata": {},
   "source": [
    "### Precision :\n",
    "Precision means how well a model succeeds in identifying ONLY positive cases: <br><br>\n",
    "    $\\frac{TP}{TP+FP}$\n",
    "\n",
    "We care about this whenever we want to reduce counts of FP."
   ]
  },
  {
   "cell_type": "markdown",
   "metadata": {},
   "source": [
    "### ReCall :\n",
    "Recall means how well a model succeeds in identifying ALL the positive cases within the data.<br><br>\n",
    "    $\\frac{TP}{TP+FN}$\n",
    "We care about this whenever we want to reduce counts of FN."
   ]
  },
  {
   "cell_type": "markdown",
   "metadata": {},
   "source": [
    "### F-beta:\n",
    "When both ReCall and Precision are important we use this metric.\n",
    "About beta :\n",
    "1. When FP and FN both are equally important, beta will be 1 and we have F-1 score.\n",
    "2. When FP is more important than FN, beta will be 0.5 and we have F-0.5 score.\n",
    "3. When FP is less important than FN, beta will be 2 and we have F-2 score.\n",
    "\n",
    "#### Formula for F-beta:\n",
    "\n",
    "$F_\\beta = \\frac{((1 + \\beta^2) * Precision * Recall)}{(\\beta^2 * Precision + Recall)}$"
   ]
  },
  {
   "cell_type": "markdown",
   "metadata": {},
   "source": [
    "## Classification Metics In Python :"
   ]
  },
  {
   "cell_type": "code",
   "execution_count": 1,
   "metadata": {},
   "outputs": [
    {
     "name": "stdout",
     "output_type": "stream",
     "text": [
      "              precision    recall  f1-score   support\n",
      "\n",
      "     class 0       0.50      1.00      0.67         1\n",
      "     class 1       0.00      0.00      0.00         1\n",
      "     class 2       1.00      0.67      0.80         3\n",
      "\n",
      "    accuracy                           0.60         5\n",
      "   macro avg       0.50      0.56      0.49         5\n",
      "weighted avg       0.70      0.60      0.61         5\n",
      "\n"
     ]
    }
   ],
   "source": [
    "from sklearn.metrics import classification_report\n",
    "\n",
    "y_true = [0, 1, 2, 2, 2]\n",
    "y_pred = [0, 0, 2, 2, 1]\n",
    "target_names = ['class 0', 'class 1', 'class 2']\n",
    "\n",
    "classificationMetrics = classification_report(y_true, y_pred, target_names=target_names)\n",
    "print(classificationMetrics)"
   ]
  }
 ],
 "metadata": {
  "interpreter": {
   "hash": "916dbcbb3f70747c44a77c7bcd40155683ae19c65e1c03b4aa3499c5328201f1"
  },
  "kernelspec": {
   "display_name": "Python 3.8.10 64-bit",
   "language": "python",
   "name": "python3"
  },
  "language_info": {
   "codemirror_mode": {
    "name": "ipython",
    "version": 3
   },
   "file_extension": ".py",
   "mimetype": "text/x-python",
   "name": "python",
   "nbconvert_exporter": "python",
   "pygments_lexer": "ipython3",
   "version": "3.8.10"
  },
  "orig_nbformat": 4
 },
 "nbformat": 4,
 "nbformat_minor": 2
}
